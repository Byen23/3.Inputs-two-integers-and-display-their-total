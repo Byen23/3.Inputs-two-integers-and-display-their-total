{
 "cells": [
  {
   "cell_type": "code",
   "execution_count": 1,
   "metadata": {
    "ExecuteTime": {
     "end_time": "2019-01-06T16:15:28.838580Z",
     "start_time": "2019-01-06T16:15:14.191890Z"
    }
   },
   "outputs": [
    {
     "name": "stdout",
     "output_type": "stream",
     "text": [
      "\n",
      "**************************************************************\n",
      "Enter first num: 12\n",
      "Enter second num: 23\n",
      "12 + 23 = 35\n",
      "\n",
      "**************************************************************\n",
      "Enter first num: 12\n",
      "Enter second num: 12\n",
      "12 - 12 = 0\n",
      "\n",
      "**************************************************************\n",
      "Enter first num: 21\n",
      "Enter second num: 24\n",
      "21 / 24 = 0.875\n",
      "\n",
      "**************************************************************\n",
      "Enter first num: 22\n",
      "Enter second num: 1\n",
      "22 * 1 = 22\n"
     ]
    }
   ],
   "source": [
    "#This is the third program that will be uploaded to github.\n",
    "'''Input two integers and displays their sum, then subtraction,\n",
    "    division, and multiplication.'''\n",
    "    \n",
    "print(\"\\n\"+62*\"*\")\n",
    "num1 = int(input(\"Enter first num: \"))\n",
    "num2 = int(input(\"Enter second num: \"))\n",
    "\n",
    "print(num1, \"+\", num2, \"=\", num1 + num2)\n",
    "print(\"\\n\"+62*\"*\")\n",
    "\n",
    "num1 = int(input(\"Enter first num: \"))\n",
    "num2 = int(input(\"Enter second num: \"))\n",
    "\n",
    "print(num1, \"-\", num2, \"=\", num1 - num2)\n",
    "print(\"\\n\"+62*\"*\")\n",
    "\n",
    "num1 = int(input(\"Enter first num: \"))\n",
    "num2 = int(input(\"Enter second num: \"))\n",
    "\n",
    "print(num1,\"/\", num2,\"=\", num1 / num2)\n",
    "print(\"\\n\"+62*\"*\")\n",
    "\n",
    "num1 = int(input(\"Enter first num: \"))\n",
    "num2 = int(input(\"Enter second num: \"))\n",
    "\n",
    "print(num1,\"*\", num2, \"=\", num1 * num2)"
   ]
  },
  {
   "cell_type": "code",
   "execution_count": null,
   "metadata": {},
   "outputs": [],
   "source": []
  }
 ],
 "metadata": {
  "kernelspec": {
   "display_name": "Python 3",
   "language": "python",
   "name": "python3"
  },
  "language_info": {
   "codemirror_mode": {
    "name": "ipython",
    "version": 3
   },
   "file_extension": ".py",
   "mimetype": "text/x-python",
   "name": "python",
   "nbconvert_exporter": "python",
   "pygments_lexer": "ipython3",
   "version": "3.6.7"
  }
 },
 "nbformat": 4,
 "nbformat_minor": 2
}
